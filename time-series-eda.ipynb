{
 "cells": [
  {
   "cell_type": "code",
   "execution_count": 1,
   "id": "d0eefba0",
   "metadata": {},
   "outputs": [],
   "source": [
    "import pandas as pd\n",
    "import matplotlib.pyplot as plt\n"
   ]
  },
  {
   "cell_type": "code",
   "execution_count": 2,
   "id": "1d318317",
   "metadata": {},
   "outputs": [],
   "source": [
    "def plot_graph(df):\n",
    "    # Plotting\n",
    "    plt.figure(figsize=(10, 6))  # Adjust the figure size if needed\n",
    "    plt.plot(df['Year'], df['Attendance'], marker='o')\n",
    "    plt.xlabel('Year')\n",
    "    plt.ylabel('Attendance')\n",
    "    plt.title('Time Series Plot of Movie Attendance')\n",
    "    # plt.xticks(rotation=45)\n",
    "    plt.grid(True)\n",
    "    plt.tight_layout()\n",
    "    plt.show()"
   ]
  },
  {
   "cell_type": "code",
   "execution_count": 3,
   "id": "0c2a1a65",
   "metadata": {},
   "outputs": [],
   "source": [
    "df = pd.read_csv(\"sample_data.csv\")"
   ]
  },
  {
   "cell_type": "code",
   "execution_count": 4,
   "id": "7f4a036b",
   "metadata": {},
   "outputs": [],
   "source": [
    "df['Year'] = pd.to_datetime(df['Year'])"
   ]
  },
  {
   "cell_type": "code",
   "execution_count": 5,
   "id": "81ef5f3d",
   "metadata": {},
   "outputs": [
    {
     "data": {
      "text/html": [
       "<div>\n",
       "<style scoped>\n",
       "    .dataframe tbody tr th:only-of-type {\n",
       "        vertical-align: middle;\n",
       "    }\n",
       "\n",
       "    .dataframe tbody tr th {\n",
       "        vertical-align: top;\n",
       "    }\n",
       "\n",
       "    .dataframe thead th {\n",
       "        text-align: right;\n",
       "    }\n",
       "</style>\n",
       "<table border=\"1\" class=\"dataframe\">\n",
       "  <thead>\n",
       "    <tr style=\"text-align: right;\">\n",
       "      <th></th>\n",
       "      <th>Year</th>\n",
       "      <th>Attendance</th>\n",
       "    </tr>\n",
       "  </thead>\n",
       "  <tbody>\n",
       "    <tr>\n",
       "      <th>0</th>\n",
       "      <td>2021-03-01</td>\n",
       "      <td>1.500870e+09</td>\n",
       "    </tr>\n",
       "    <tr>\n",
       "      <th>1</th>\n",
       "      <td>2021-04-01</td>\n",
       "      <td>8.831096e+08</td>\n",
       "    </tr>\n",
       "    <tr>\n",
       "      <th>2</th>\n",
       "      <td>2021-05-01</td>\n",
       "      <td>1.055886e+09</td>\n",
       "    </tr>\n",
       "    <tr>\n",
       "      <th>3</th>\n",
       "      <td>2021-06-01</td>\n",
       "      <td>1.082216e+09</td>\n",
       "    </tr>\n",
       "    <tr>\n",
       "      <th>4</th>\n",
       "      <td>2021-07-01</td>\n",
       "      <td>8.424034e+08</td>\n",
       "    </tr>\n",
       "  </tbody>\n",
       "</table>\n",
       "</div>"
      ],
      "text/plain": [
       "        Year    Attendance\n",
       "0 2021-03-01  1.500870e+09\n",
       "1 2021-04-01  8.831096e+08\n",
       "2 2021-05-01  1.055886e+09\n",
       "3 2021-06-01  1.082216e+09\n",
       "4 2021-07-01  8.424034e+08"
      ]
     },
     "execution_count": 5,
     "metadata": {},
     "output_type": "execute_result"
    }
   ],
   "source": [
    "df.head()"
   ]
  },
  {
   "cell_type": "code",
   "execution_count": 6,
   "id": "a0d2eb0c",
   "metadata": {},
   "outputs": [
    {
     "data": {
      "text/html": [
       "<div>\n",
       "<style scoped>\n",
       "    .dataframe tbody tr th:only-of-type {\n",
       "        vertical-align: middle;\n",
       "    }\n",
       "\n",
       "    .dataframe tbody tr th {\n",
       "        vertical-align: top;\n",
       "    }\n",
       "\n",
       "    .dataframe thead th {\n",
       "        text-align: right;\n",
       "    }\n",
       "</style>\n",
       "<table border=\"1\" class=\"dataframe\">\n",
       "  <thead>\n",
       "    <tr style=\"text-align: right;\">\n",
       "      <th></th>\n",
       "      <th>Attendance</th>\n",
       "    </tr>\n",
       "  </thead>\n",
       "  <tbody>\n",
       "    <tr>\n",
       "      <th>count</th>\n",
       "      <td>2.500000e+01</td>\n",
       "    </tr>\n",
       "    <tr>\n",
       "      <th>mean</th>\n",
       "      <td>1.167339e+09</td>\n",
       "    </tr>\n",
       "    <tr>\n",
       "      <th>std</th>\n",
       "      <td>2.598008e+08</td>\n",
       "    </tr>\n",
       "    <tr>\n",
       "      <th>min</th>\n",
       "      <td>7.552728e+08</td>\n",
       "    </tr>\n",
       "    <tr>\n",
       "      <th>25%</th>\n",
       "      <td>9.872609e+08</td>\n",
       "    </tr>\n",
       "    <tr>\n",
       "      <th>50%</th>\n",
       "      <td>1.112154e+09</td>\n",
       "    </tr>\n",
       "    <tr>\n",
       "      <th>75%</th>\n",
       "      <td>1.360294e+09</td>\n",
       "    </tr>\n",
       "    <tr>\n",
       "      <th>max</th>\n",
       "      <td>1.790401e+09</td>\n",
       "    </tr>\n",
       "  </tbody>\n",
       "</table>\n",
       "</div>"
      ],
      "text/plain": [
       "         Attendance\n",
       "count  2.500000e+01\n",
       "mean   1.167339e+09\n",
       "std    2.598008e+08\n",
       "min    7.552728e+08\n",
       "25%    9.872609e+08\n",
       "50%    1.112154e+09\n",
       "75%    1.360294e+09\n",
       "max    1.790401e+09"
      ]
     },
     "execution_count": 6,
     "metadata": {},
     "output_type": "execute_result"
    }
   ],
   "source": [
    "df.describe()"
   ]
  },
  {
   "cell_type": "code",
   "execution_count": 7,
   "id": "4a9bf3c0",
   "metadata": {},
   "outputs": [
    {
     "data": {
      "image/png": "[encoded data removed]",
      "text/plain": [
       "<Figure size 720x432 with 1 Axes>"
      ]
     },
     "metadata": {
      "needs_background": "light"
     },
     "output_type": "display_data"
    }
   ],
   "source": [
    "plot_graph(df)"
   ]
  },
  {
   "cell_type": "code",
   "execution_count": 8,
   "id": "a9717990",
   "metadata": {},
   "outputs": [],
   "source": [
    "df_ma = df.copy()"
   ]
  },
  {
   "cell_type": "code",
   "execution_count": 9,
   "id": "1e58f5de",
   "metadata": {},
   "outputs": [
    {
     "name": "stdout",
     "output_type": "stream",
     "text": [
      "         Year    Attendance    moving_avg\n",
      "0  2021-03-01  1.500870e+09           NaN\n",
      "1  2021-04-01  8.831096e+08           NaN\n",
      "2  2021-05-01  1.055886e+09  1.146622e+09\n",
      "3  2021-06-01  1.082216e+09  1.007071e+09\n",
      "4  2021-07-01  8.424034e+08  9.935019e+08\n",
      "5  2021-08-01  8.669170e+08  9.305121e+08\n",
      "6  2021-09-01  9.240726e+08  8.777977e+08\n",
      "7  2021-10-01  1.108536e+09  9.665085e+08\n",
      "8  2021-11-01  1.015392e+09  1.016000e+09\n",
      "9  2021-12-01  1.347768e+09  1.157232e+09\n",
      "10 2022-01-01  1.382330e+09  1.248497e+09\n",
      "11 2022-02-01  1.380875e+09  1.370324e+09\n",
      "12 2022-03-01  1.613781e+09  1.458995e+09\n",
      "13 2022-04-01  1.215700e+09  1.403452e+09\n",
      "14 2022-05-01  1.219845e+09  1.349775e+09\n",
      "15 2022-06-01  1.076833e+09  1.170792e+09\n",
      "16 2022-07-01  7.552728e+08  1.017317e+09\n",
      "17 2022-08-01  8.697439e+08  9.006164e+08\n",
      "18 2022-09-01  1.112890e+09  9.126357e+08\n",
      "19 2022-10-01  9.872609e+08  9.899651e+08\n",
      "20 2022-11-01  1.112154e+09  1.070768e+09\n",
      "21 2022-12-02  1.403478e+09  1.167631e+09\n",
      "22 2023-01-01  1.360294e+09  1.291975e+09\n",
      "23 2023-02-01  1.275446e+09  1.346406e+09\n",
      "24 2023-03-01  1.790401e+09  1.475380e+09\n"
     ]
    }
   ],
   "source": [
    "\n",
    "# Calculate the 3-month (quarterly) moving average\n",
    "moving_avg = df_ma['Attendance'].rolling(window=3).mean()\n",
    "\n",
    "# Add the moving average to the DataFrame\n",
    "df_ma['moving_avg'] = moving_avg\n",
    "\n",
    "print(df_ma)"
   ]
  },
  {
   "cell_type": "code",
   "execution_count": 10,
   "id": "42debfb3",
   "metadata": {},
   "outputs": [
    {
     "data": {
      "text/html": [
       "<div>\n",
       "<style scoped>\n",
       "    .dataframe tbody tr th:only-of-type {\n",
       "        vertical-align: middle;\n",
       "    }\n",
       "\n",
       "    .dataframe tbody tr th {\n",
       "        vertical-align: top;\n",
       "    }\n",
       "\n",
       "    .dataframe thead th {\n",
       "        text-align: right;\n",
       "    }\n",
       "</style>\n",
       "<table border=\"1\" class=\"dataframe\">\n",
       "  <thead>\n",
       "    <tr style=\"text-align: right;\">\n",
       "      <th></th>\n",
       "      <th>Year</th>\n",
       "      <th>Attendance</th>\n",
       "      <th>moving_avg</th>\n",
       "    </tr>\n",
       "  </thead>\n",
       "  <tbody>\n",
       "    <tr>\n",
       "      <th>0</th>\n",
       "      <td>2021-03-01</td>\n",
       "      <td>1.500870e+09</td>\n",
       "      <td>NaN</td>\n",
       "    </tr>\n",
       "    <tr>\n",
       "      <th>1</th>\n",
       "      <td>2021-04-01</td>\n",
       "      <td>8.831096e+08</td>\n",
       "      <td>NaN</td>\n",
       "    </tr>\n",
       "    <tr>\n",
       "      <th>2</th>\n",
       "      <td>2021-05-01</td>\n",
       "      <td>1.055886e+09</td>\n",
       "      <td>1.146622e+09</td>\n",
       "    </tr>\n",
       "    <tr>\n",
       "      <th>3</th>\n",
       "      <td>2021-06-01</td>\n",
       "      <td>1.082216e+09</td>\n",
       "      <td>1.007071e+09</td>\n",
       "    </tr>\n",
       "    <tr>\n",
       "      <th>4</th>\n",
       "      <td>2021-07-01</td>\n",
       "      <td>8.424034e+08</td>\n",
       "      <td>9.935019e+08</td>\n",
       "    </tr>\n",
       "    <tr>\n",
       "      <th>5</th>\n",
       "      <td>2021-08-01</td>\n",
       "      <td>8.669170e+08</td>\n",
       "      <td>9.305121e+08</td>\n",
       "    </tr>\n",
       "    <tr>\n",
       "      <th>6</th>\n",
       "      <td>2021-09-01</td>\n",
       "      <td>9.240726e+08</td>\n",
       "      <td>8.777977e+08</td>\n",
       "    </tr>\n",
       "    <tr>\n",
       "      <th>7</th>\n",
       "      <td>2021-10-01</td>\n",
       "      <td>1.108536e+09</td>\n",
       "      <td>9.665085e+08</td>\n",
       "    </tr>\n",
       "    <tr>\n",
       "      <th>8</th>\n",
       "      <td>2021-11-01</td>\n",
       "      <td>1.015392e+09</td>\n",
       "      <td>1.016000e+09</td>\n",
       "    </tr>\n",
       "    <tr>\n",
       "      <th>9</th>\n",
       "      <td>2021-12-01</td>\n",
       "      <td>1.347768e+09</td>\n",
       "      <td>1.157232e+09</td>\n",
       "    </tr>\n",
       "    <tr>\n",
       "      <th>10</th>\n",
       "      <td>2022-01-01</td>\n",
       "      <td>1.382330e+09</td>\n",
       "      <td>1.248497e+09</td>\n",
       "    </tr>\n",
       "    <tr>\n",
       "      <th>11</th>\n",
       "      <td>2022-02-01</td>\n",
       "      <td>1.380875e+09</td>\n",
       "      <td>1.370324e+09</td>\n",
       "    </tr>\n",
       "    <tr>\n",
       "      <th>12</th>\n",
       "      <td>2022-03-01</td>\n",
       "      <td>1.613781e+09</td>\n",
       "      <td>1.458995e+09</td>\n",
       "    </tr>\n",
       "    <tr>\n",
       "      <th>13</th>\n",
       "      <td>2022-04-01</td>\n",
       "      <td>1.215700e+09</td>\n",
       "      <td>1.403452e+09</td>\n",
       "    </tr>\n",
       "    <tr>\n",
       "      <th>14</th>\n",
       "      <td>2022-05-01</td>\n",
       "      <td>1.219845e+09</td>\n",
       "      <td>1.349775e+09</td>\n",
       "    </tr>\n",
       "    <tr>\n",
       "      <th>15</th>\n",
       "      <td>2022-06-01</td>\n",
       "      <td>1.076833e+09</td>\n",
       "      <td>1.170792e+09</td>\n",
       "    </tr>\n",
       "    <tr>\n",
       "      <th>16</th>\n",
       "      <td>2022-07-01</td>\n",
       "      <td>7.552728e+08</td>\n",
       "      <td>1.017317e+09</td>\n",
       "    </tr>\n",
       "    <tr>\n",
       "      <th>17</th>\n",
       "      <td>2022-08-01</td>\n",
       "      <td>8.697439e+08</td>\n",
       "      <td>9.006164e+08</td>\n",
       "    </tr>\n",
       "    <tr>\n",
       "      <th>18</th>\n",
       "      <td>2022-09-01</td>\n",
       "      <td>1.112890e+09</td>\n",
       "      <td>9.126357e+08</td>\n",
       "    </tr>\n",
       "    <tr>\n",
       "      <th>19</th>\n",
       "      <td>2022-10-01</td>\n",
       "      <td>9.872609e+08</td>\n",
       "      <td>9.899651e+08</td>\n",
       "    </tr>\n",
       "    <tr>\n",
       "      <th>20</th>\n",
       "      <td>2022-11-01</td>\n",
       "      <td>1.112154e+09</td>\n",
       "      <td>1.070768e+09</td>\n",
       "    </tr>\n",
       "    <tr>\n",
       "      <th>21</th>\n",
       "      <td>2022-12-02</td>\n",
       "      <td>1.403478e+09</td>\n",
       "      <td>1.167631e+09</td>\n",
       "    </tr>\n",
       "    <tr>\n",
       "      <th>22</th>\n",
       "      <td>2023-01-01</td>\n",
       "      <td>1.360294e+09</td>\n",
       "      <td>1.291975e+09</td>\n",
       "    </tr>\n",
       "    <tr>\n",
       "      <th>23</th>\n",
       "      <td>2023-02-01</td>\n",
       "      <td>1.275446e+09</td>\n",
       "      <td>1.346406e+09</td>\n",
       "    </tr>\n",
       "    <tr>\n",
       "      <th>24</th>\n",
       "      <td>2023-03-01</td>\n",
       "      <td>1.790401e+09</td>\n",
       "      <td>1.475380e+09</td>\n",
       "    </tr>\n",
       "  </tbody>\n",
       "</table>\n",
       "</div>"
      ],
      "text/plain": [
       "         Year    Attendance    moving_avg\n",
       "0  2021-03-01  1.500870e+09           NaN\n",
       "1  2021-04-01  8.831096e+08           NaN\n",
       "2  2021-05-01  1.055886e+09  1.146622e+09\n",
       "3  2021-06-01  1.082216e+09  1.007071e+09\n",
       "4  2021-07-01  8.424034e+08  9.935019e+08\n",
       "5  2021-08-01  8.669170e+08  9.305121e+08\n",
       "6  2021-09-01  9.240726e+08  8.777977e+08\n",
       "7  2021-10-01  1.108536e+09  9.665085e+08\n",
       "8  2021-11-01  1.015392e+09  1.016000e+09\n",
       "9  2021-12-01  1.347768e+09  1.157232e+09\n",
       "10 2022-01-01  1.382330e+09  1.248497e+09\n",
       "11 2022-02-01  1.380875e+09  1.370324e+09\n",
       "12 2022-03-01  1.613781e+09  1.458995e+09\n",
       "13 2022-04-01  1.215700e+09  1.403452e+09\n",
       "14 2022-05-01  1.219845e+09  1.349775e+09\n",
       "15 2022-06-01  1.076833e+09  1.170792e+09\n",
       "16 2022-07-01  7.552728e+08  1.017317e+09\n",
       "17 2022-08-01  8.697439e+08  9.006164e+08\n",
       "18 2022-09-01  1.112890e+09  9.126357e+08\n",
       "19 2022-10-01  9.872609e+08  9.899651e+08\n",
       "20 2022-11-01  1.112154e+09  1.070768e+09\n",
       "21 2022-12-02  1.403478e+09  1.167631e+09\n",
       "22 2023-01-01  1.360294e+09  1.291975e+09\n",
       "23 2023-02-01  1.275446e+09  1.346406e+09\n",
       "24 2023-03-01  1.790401e+09  1.475380e+09"
      ]
     },
     "execution_count": 10,
     "metadata": {},
     "output_type": "execute_result"
    }
   ],
   "source": [
    "df_ma"
   ]
  },
  {
   "cell_type": "code",
   "execution_count": 11,
   "id": "b16c6688",
   "metadata": {},
   "outputs": [
    {
     "data": {
      "text/html": [
       "<div>\n",
       "<style scoped>\n",
       "    .dataframe tbody tr th:only-of-type {\n",
       "        vertical-align: middle;\n",
       "    }\n",
       "\n",
       "    .dataframe tbody tr th {\n",
       "        vertical-align: top;\n",
       "    }\n",
       "\n",
       "    .dataframe thead th {\n",
       "        text-align: right;\n",
       "    }\n",
       "</style>\n",
       "<table border=\"1\" class=\"dataframe\">\n",
       "  <thead>\n",
       "    <tr style=\"text-align: right;\">\n",
       "      <th></th>\n",
       "      <th>Year</th>\n",
       "      <th>Attendance</th>\n",
       "    </tr>\n",
       "  </thead>\n",
       "  <tbody>\n",
       "    <tr>\n",
       "      <th>0</th>\n",
       "      <td>2021-03-01</td>\n",
       "      <td>1.500870e+09</td>\n",
       "    </tr>\n",
       "    <tr>\n",
       "      <th>1</th>\n",
       "      <td>2021-04-01</td>\n",
       "      <td>8.831096e+08</td>\n",
       "    </tr>\n",
       "    <tr>\n",
       "      <th>2</th>\n",
       "      <td>2021-05-01</td>\n",
       "      <td>1.055886e+09</td>\n",
       "    </tr>\n",
       "    <tr>\n",
       "      <th>3</th>\n",
       "      <td>2021-06-01</td>\n",
       "      <td>1.082216e+09</td>\n",
       "    </tr>\n",
       "    <tr>\n",
       "      <th>4</th>\n",
       "      <td>2021-07-01</td>\n",
       "      <td>8.424034e+08</td>\n",
       "    </tr>\n",
       "    <tr>\n",
       "      <th>5</th>\n",
       "      <td>2021-08-01</td>\n",
       "      <td>8.669170e+08</td>\n",
       "    </tr>\n",
       "    <tr>\n",
       "      <th>6</th>\n",
       "      <td>2021-09-01</td>\n",
       "      <td>9.240726e+08</td>\n",
       "    </tr>\n",
       "    <tr>\n",
       "      <th>7</th>\n",
       "      <td>2021-10-01</td>\n",
       "      <td>1.108536e+09</td>\n",
       "    </tr>\n",
       "    <tr>\n",
       "      <th>8</th>\n",
       "      <td>2021-11-01</td>\n",
       "      <td>1.015392e+09</td>\n",
       "    </tr>\n",
       "    <tr>\n",
       "      <th>9</th>\n",
       "      <td>2021-12-01</td>\n",
       "      <td>1.347768e+09</td>\n",
       "    </tr>\n",
       "    <tr>\n",
       "      <th>10</th>\n",
       "      <td>2022-01-01</td>\n",
       "      <td>1.382330e+09</td>\n",
       "    </tr>\n",
       "    <tr>\n",
       "      <th>11</th>\n",
       "      <td>2022-02-01</td>\n",
       "      <td>1.380875e+09</td>\n",
       "    </tr>\n",
       "    <tr>\n",
       "      <th>12</th>\n",
       "      <td>2022-03-01</td>\n",
       "      <td>1.613781e+09</td>\n",
       "    </tr>\n",
       "    <tr>\n",
       "      <th>13</th>\n",
       "      <td>2022-04-01</td>\n",
       "      <td>1.215700e+09</td>\n",
       "    </tr>\n",
       "    <tr>\n",
       "      <th>14</th>\n",
       "      <td>2022-05-01</td>\n",
       "      <td>1.219845e+09</td>\n",
       "    </tr>\n",
       "    <tr>\n",
       "      <th>15</th>\n",
       "      <td>2022-06-01</td>\n",
       "      <td>1.076833e+09</td>\n",
       "    </tr>\n",
       "    <tr>\n",
       "      <th>16</th>\n",
       "      <td>2022-07-01</td>\n",
       "      <td>7.552728e+08</td>\n",
       "    </tr>\n",
       "    <tr>\n",
       "      <th>17</th>\n",
       "      <td>2022-08-01</td>\n",
       "      <td>8.697439e+08</td>\n",
       "    </tr>\n",
       "    <tr>\n",
       "      <th>18</th>\n",
       "      <td>2022-09-01</td>\n",
       "      <td>1.112890e+09</td>\n",
       "    </tr>\n",
       "    <tr>\n",
       "      <th>19</th>\n",
       "      <td>2022-10-01</td>\n",
       "      <td>9.872609e+08</td>\n",
       "    </tr>\n",
       "    <tr>\n",
       "      <th>20</th>\n",
       "      <td>2022-11-01</td>\n",
       "      <td>1.112154e+09</td>\n",
       "    </tr>\n",
       "    <tr>\n",
       "      <th>21</th>\n",
       "      <td>2022-12-02</td>\n",
       "      <td>1.403478e+09</td>\n",
       "    </tr>\n",
       "    <tr>\n",
       "      <th>22</th>\n",
       "      <td>2023-01-01</td>\n",
       "      <td>1.360294e+09</td>\n",
       "    </tr>\n",
       "    <tr>\n",
       "      <th>23</th>\n",
       "      <td>2023-02-01</td>\n",
       "      <td>1.275446e+09</td>\n",
       "    </tr>\n",
       "    <tr>\n",
       "      <th>24</th>\n",
       "      <td>2023-03-01</td>\n",
       "      <td>1.790401e+09</td>\n",
       "    </tr>\n",
       "  </tbody>\n",
       "</table>\n",
       "</div>"
      ],
      "text/plain": [
       "         Year    Attendance\n",
       "0  2021-03-01  1.500870e+09\n",
       "1  2021-04-01  8.831096e+08\n",
       "2  2021-05-01  1.055886e+09\n",
       "3  2021-06-01  1.082216e+09\n",
       "4  2021-07-01  8.424034e+08\n",
       "5  2021-08-01  8.669170e+08\n",
       "6  2021-09-01  9.240726e+08\n",
       "7  2021-10-01  1.108536e+09\n",
       "8  2021-11-01  1.015392e+09\n",
       "9  2021-12-01  1.347768e+09\n",
       "10 2022-01-01  1.382330e+09\n",
       "11 2022-02-01  1.380875e+09\n",
       "12 2022-03-01  1.613781e+09\n",
       "13 2022-04-01  1.215700e+09\n",
       "14 2022-05-01  1.219845e+09\n",
       "15 2022-06-01  1.076833e+09\n",
       "16 2022-07-01  7.552728e+08\n",
       "17 2022-08-01  8.697439e+08\n",
       "18 2022-09-01  1.112890e+09\n",
       "19 2022-10-01  9.872609e+08\n",
       "20 2022-11-01  1.112154e+09\n",
       "21 2022-12-02  1.403478e+09\n",
       "22 2023-01-01  1.360294e+09\n",
       "23 2023-02-01  1.275446e+09\n",
       "24 2023-03-01  1.790401e+09"
      ]
     },
     "execution_count": 11,
     "metadata": {},
     "output_type": "execute_result"
    }
   ],
   "source": [
    "df_ma.drop(columns=[\"moving_avg\"])"
   ]
  },
  {
   "cell_type": "code",
   "execution_count": 12,
   "id": "ee080ea9",
   "metadata": {},
   "outputs": [
    {
     "data": {
      "image/png": "[encoded data removed]",
      "text/plain": [
       "<Figure size 720x432 with 1 Axes>"
      ]
     },
     "metadata": {
      "needs_background": "light"
     },
     "output_type": "display_data"
    }
   ],
   "source": [
    "plot_graph(df_ma)"
   ]
  },
  {
   "cell_type": "code",
   "execution_count": null,
   "id": "dda7e5d6",
   "metadata": {},
   "outputs": [],
   "source": []
  },
  {
   "cell_type": "code",
   "execution_count": 13,
   "id": "0844e510",
   "metadata": {},
   "outputs": [
    {
     "name": "stdout",
     "output_type": "stream",
     "text": [
      "Actual Data: 0     1.500870e+09\n",
      "1     8.831096e+08\n",
      "2     1.055886e+09\n",
      "3     1.082216e+09\n",
      "4     8.424034e+08\n",
      "5     8.669170e+08\n",
      "6     9.240726e+08\n",
      "7     1.108536e+09\n",
      "8     1.015392e+09\n",
      "9     1.347768e+09\n",
      "10    1.382330e+09\n",
      "11    1.380875e+09\n",
      "12    1.613781e+09\n",
      "13    1.215700e+09\n",
      "14    1.219845e+09\n",
      "15    1.076833e+09\n",
      "16    7.552728e+08\n",
      "17    8.697439e+08\n",
      "18    1.112890e+09\n",
      "19    9.872609e+08\n",
      "20    1.112154e+09\n",
      "21    1.403478e+09\n",
      "22    1.360294e+09\n",
      "23    1.275446e+09\n",
      "24    1.790401e+09\n",
      "Name: Attendance, dtype: float64\n",
      "Forecasted Data: [1500870061.74, 1346429945.505, 1273794044.21875, 1225899538.4965625, 1130025497.1224217, 1064248378.4418163, 1029204438.9388622, 1049037288.7966466, 1040626052.104985, 1117411427.9637387, 1183641175.490304, 1232949545.327728, 1328157331.673296, 1300042911.819972, 1279993386.489979, 1229203180.8674843, 1110720573.1506133, 1050476413.86296, 1066079910.89722, 1046375149.1704149, 1062819784.1278112, 1147984373.0958583, 1201061869.0393937, 1219657832.5295453, 1362343655.897159]\n"
     ]
    }
   ],
   "source": [
    "# Exponential Smoothing\n",
    "\n",
    "# Smoothing parameter (alpha)\n",
    "alpha = 0.25\n",
    "data = df['Attendance']\n",
    "# Initialize the forecast for the first data point\n",
    "forecast = [data[0]]\n",
    "\n",
    "# Perform exponential smoothing\n",
    "for i in range(1, len(data)):\n",
    "    forecast_value = alpha * data[i] + (1 - alpha) * forecast[i - 1]\n",
    "    forecast.append(forecast_value)\n",
    "\n",
    "# Print the forecasted values\n",
    "print(\"Actual Data:\", data)\n",
    "print(\"Forecasted Data:\", forecast)\n"
   ]
  },
  {
   "cell_type": "code",
   "execution_count": 14,
   "id": "799df91a",
   "metadata": {},
   "outputs": [],
   "source": [
    "df_exp = df.copy()"
   ]
  },
  {
   "cell_type": "code",
   "execution_count": 15,
   "id": "0f881592",
   "metadata": {},
   "outputs": [],
   "source": [
    "df_exp['Attendance'] = forecast"
   ]
  },
  {
   "cell_type": "code",
   "execution_count": 16,
   "id": "7cbd11b6",
   "metadata": {},
   "outputs": [
    {
     "data": {
      "text/html": [
       "<div>\n",
       "<style scoped>\n",
       "    .dataframe tbody tr th:only-of-type {\n",
       "        vertical-align: middle;\n",
       "    }\n",
       "\n",
       "    .dataframe tbody tr th {\n",
       "        vertical-align: top;\n",
       "    }\n",
       "\n",
       "    .dataframe thead th {\n",
       "        text-align: right;\n",
       "    }\n",
       "</style>\n",
       "<table border=\"1\" class=\"dataframe\">\n",
       "  <thead>\n",
       "    <tr style=\"text-align: right;\">\n",
       "      <th></th>\n",
       "      <th>Year</th>\n",
       "      <th>Attendance</th>\n",
       "    </tr>\n",
       "  </thead>\n",
       "  <tbody>\n",
       "    <tr>\n",
       "      <th>0</th>\n",
       "      <td>2021-03-01</td>\n",
       "      <td>1.500870e+09</td>\n",
       "    </tr>\n",
       "    <tr>\n",
       "      <th>1</th>\n",
       "      <td>2021-04-01</td>\n",
       "      <td>1.346430e+09</td>\n",
       "    </tr>\n",
       "    <tr>\n",
       "      <th>2</th>\n",
       "      <td>2021-05-01</td>\n",
       "      <td>1.273794e+09</td>\n",
       "    </tr>\n",
       "    <tr>\n",
       "      <th>3</th>\n",
       "      <td>2021-06-01</td>\n",
       "      <td>1.225900e+09</td>\n",
       "    </tr>\n",
       "    <tr>\n",
       "      <th>4</th>\n",
       "      <td>2021-07-01</td>\n",
       "      <td>1.130025e+09</td>\n",
       "    </tr>\n",
       "    <tr>\n",
       "      <th>5</th>\n",
       "      <td>2021-08-01</td>\n",
       "      <td>1.064248e+09</td>\n",
       "    </tr>\n",
       "    <tr>\n",
       "      <th>6</th>\n",
       "      <td>2021-09-01</td>\n",
       "      <td>1.029204e+09</td>\n",
       "    </tr>\n",
       "    <tr>\n",
       "      <th>7</th>\n",
       "      <td>2021-10-01</td>\n",
       "      <td>1.049037e+09</td>\n",
       "    </tr>\n",
       "    <tr>\n",
       "      <th>8</th>\n",
       "      <td>2021-11-01</td>\n",
       "      <td>1.040626e+09</td>\n",
       "    </tr>\n",
       "    <tr>\n",
       "      <th>9</th>\n",
       "      <td>2021-12-01</td>\n",
       "      <td>1.117411e+09</td>\n",
       "    </tr>\n",
       "    <tr>\n",
       "      <th>10</th>\n",
       "      <td>2022-01-01</td>\n",
       "      <td>1.183641e+09</td>\n",
       "    </tr>\n",
       "    <tr>\n",
       "      <th>11</th>\n",
       "      <td>2022-02-01</td>\n",
       "      <td>1.232950e+09</td>\n",
       "    </tr>\n",
       "    <tr>\n",
       "      <th>12</th>\n",
       "      <td>2022-03-01</td>\n",
       "      <td>1.328157e+09</td>\n",
       "    </tr>\n",
       "    <tr>\n",
       "      <th>13</th>\n",
       "      <td>2022-04-01</td>\n",
       "      <td>1.300043e+09</td>\n",
       "    </tr>\n",
       "    <tr>\n",
       "      <th>14</th>\n",
       "      <td>2022-05-01</td>\n",
       "      <td>1.279993e+09</td>\n",
       "    </tr>\n",
       "    <tr>\n",
       "      <th>15</th>\n",
       "      <td>2022-06-01</td>\n",
       "      <td>1.229203e+09</td>\n",
       "    </tr>\n",
       "    <tr>\n",
       "      <th>16</th>\n",
       "      <td>2022-07-01</td>\n",
       "      <td>1.110721e+09</td>\n",
       "    </tr>\n",
       "    <tr>\n",
       "      <th>17</th>\n",
       "      <td>2022-08-01</td>\n",
       "      <td>1.050476e+09</td>\n",
       "    </tr>\n",
       "    <tr>\n",
       "      <th>18</th>\n",
       "      <td>2022-09-01</td>\n",
       "      <td>1.066080e+09</td>\n",
       "    </tr>\n",
       "    <tr>\n",
       "      <th>19</th>\n",
       "      <td>2022-10-01</td>\n",
       "      <td>1.046375e+09</td>\n",
       "    </tr>\n",
       "    <tr>\n",
       "      <th>20</th>\n",
       "      <td>2022-11-01</td>\n",
       "      <td>1.062820e+09</td>\n",
       "    </tr>\n",
       "    <tr>\n",
       "      <th>21</th>\n",
       "      <td>2022-12-02</td>\n",
       "      <td>1.147984e+09</td>\n",
       "    </tr>\n",
       "    <tr>\n",
       "      <th>22</th>\n",
       "      <td>2023-01-01</td>\n",
       "      <td>1.201062e+09</td>\n",
       "    </tr>\n",
       "    <tr>\n",
       "      <th>23</th>\n",
       "      <td>2023-02-01</td>\n",
       "      <td>1.219658e+09</td>\n",
       "    </tr>\n",
       "    <tr>\n",
       "      <th>24</th>\n",
       "      <td>2023-03-01</td>\n",
       "      <td>1.362344e+09</td>\n",
       "    </tr>\n",
       "  </tbody>\n",
       "</table>\n",
       "</div>"
      ],
      "text/plain": [
       "         Year    Attendance\n",
       "0  2021-03-01  1.500870e+09\n",
       "1  2021-04-01  1.346430e+09\n",
       "2  2021-05-01  1.273794e+09\n",
       "3  2021-06-01  1.225900e+09\n",
       "4  2021-07-01  1.130025e+09\n",
       "5  2021-08-01  1.064248e+09\n",
       "6  2021-09-01  1.029204e+09\n",
       "7  2021-10-01  1.049037e+09\n",
       "8  2021-11-01  1.040626e+09\n",
       "9  2021-12-01  1.117411e+09\n",
       "10 2022-01-01  1.183641e+09\n",
       "11 2022-02-01  1.232950e+09\n",
       "12 2022-03-01  1.328157e+09\n",
       "13 2022-04-01  1.300043e+09\n",
       "14 2022-05-01  1.279993e+09\n",
       "15 2022-06-01  1.229203e+09\n",
       "16 2022-07-01  1.110721e+09\n",
       "17 2022-08-01  1.050476e+09\n",
       "18 2022-09-01  1.066080e+09\n",
       "19 2022-10-01  1.046375e+09\n",
       "20 2022-11-01  1.062820e+09\n",
       "21 2022-12-02  1.147984e+09\n",
       "22 2023-01-01  1.201062e+09\n",
       "23 2023-02-01  1.219658e+09\n",
       "24 2023-03-01  1.362344e+09"
      ]
     },
     "execution_count": 16,
     "metadata": {},
     "output_type": "execute_result"
    }
   ],
   "source": [
    "df_exp"
   ]
  },
  {
   "cell_type": "code",
   "execution_count": 17,
   "id": "137f3fa8",
   "metadata": {},
   "outputs": [
    {
     "data": {
      "image/png": "[encoded data removed]",
      "text/plain": [
       "<Figure size 720x432 with 1 Axes>"
      ]
     },
     "metadata": {
      "needs_background": "light"
     },
     "output_type": "display_data"
    }
   ],
   "source": [
    "# Plot the data from all three DataFrames in the same graph\n",
    "plt.figure(figsize=(10, 6))  \n",
    "\n",
    "plt.plot(df['Year'], df['Attendance'], label='Original DF', marker='o')\n",
    "plt.plot(df_ma['Year'], df_ma['Attendance'], label='MA', marker='s')\n",
    "plt.plot(df_exp['Year'], df_exp['Attendance'], label='Exp Smoothing', marker='^')\n",
    "\n",
    "plt.xlabel('Year')\n",
    "plt.ylabel('Attendance')\n",
    "plt.title('Attendance Over Time')\n",
    "plt.legend()\n",
    "\n",
    "plt.grid(True)  # Optional: Add gridlines\n",
    "\n",
    "plt.show()"
   ]
  },
  {
   "cell_type": "code",
   "execution_count": null,
   "id": "aafe5ab0",
   "metadata": {},
   "outputs": [],
   "source": []
  },
  {
   "cell_type": "code",
   "execution_count": null,
   "id": "f85fb11f",
   "metadata": {},
   "outputs": [],
   "source": []
  },
  {
   "cell_type": "code",
   "execution_count": 18,
   "id": "4d55fe19",
   "metadata": {},
   "outputs": [],
   "source": [
    "# Linear Regression\n",
    "\n",
    "from sklearn.linear_model import LinearRegression\n",
    "from sklearn.metrics import r2_score\n",
    "from datetime import datetime\n",
    "\n",
    "def liner_regression_model(df, featureX, featureY):\n",
    "    # Extract the features (X) and target variable (y)\n",
    "    X = df[featureX]\n",
    "    y = df[featureY]\n",
    "    \n",
    "    # Convert date strings to datetime objects\n",
    "    X = pd.to_datetime(X)\n",
    "    \n",
    "    \n",
    "    # Calculate the number of days since the first date (reference date)\n",
    "    reference_date = X.min()\n",
    "    X = (X - reference_date).dt.days\n",
    "\n",
    "    \n",
    "    # Create a linear regression model\n",
    "    model = LinearRegression()\n",
    "\n",
    "    # Fit the model to the data\n",
    "    model.fit(X.values.reshape(-1, 1), y)  # Reshape X for prediction\n",
    "    print(\"CHECK2\")\n",
    "    # Make predictions using the model\n",
    "    y_pred = model.predict(X.values.reshape(-1, 1))\n",
    "#     y_pred = pd.Series(y_pred)\n",
    "    # Plot the actual data and the regression line\n",
    "    plt.scatter(df[featureX], y, label='Actual Data', marker='o')\n",
    "    plt.plot(df[featureX], y_pred, label='Regression Line', color='red')\n",
    "    print(\"CHECK3\")\n",
    "    plt.xlabel(featureX)\n",
    "    plt.ylabel(featureY)\n",
    "    plt.title('Linear Regression Model')\n",
    "    plt.legend()\n",
    "\n",
    "    plt.grid(True)  # Optional: Add gridlines\n",
    "\n",
    "    plt.show()\n",
    "    print(\"CHECK4\")\n",
    "    # You can also get the slope (coefficient) and intercept of the regression line\n",
    "    slope = model.coef_[0]\n",
    "    intercept = model.intercept_\n",
    "\n",
    "    # Calculate R-squared value\n",
    "    r_squared = r2_score(y, y_pred)\n",
    "    \n",
    "    return slope,intercept, r_squared"
   ]
  },
  {
   "cell_type": "code",
   "execution_count": 19,
   "id": "587297f9",
   "metadata": {},
   "outputs": [
    {
     "name": "stdout",
     "output_type": "stream",
     "text": [
      "CHECK2\n",
      "CHECK3\n"
     ]
    },
    {
     "data": {
      "image/png": "[encoded data removed]",
      "text/plain": [
       "<Figure size 432x288 with 1 Axes>"
      ]
     },
     "metadata": {
      "needs_background": "light"
     },
     "output_type": "display_data"
    },
    {
     "name": "stdout",
     "output_type": "stream",
     "text": [
      "CHECK4\n"
     ]
    },
    {
     "data": {
      "text/plain": [
       "(361411.66291078826, 1035047856.877735, 0.09722237302183512)"
      ]
     },
     "execution_count": 19,
     "metadata": {},
     "output_type": "execute_result"
    }
   ],
   "source": [
    "liner_regression_model(df,'Year','Attendance')"
   ]
  },
  {
   "cell_type": "code",
   "execution_count": 20,
   "id": "9c1f2643",
   "metadata": {},
   "outputs": [
    {
     "name": "stdout",
     "output_type": "stream",
     "text": [
      "CHECK2\n",
      "CHECK3\n"
     ]
    },
    {
     "data": {
      "image/png": "[encoded data removed]",
      "text/plain": [
       "<Figure size 432x288 with 1 Axes>"
      ]
     },
     "metadata": {
      "needs_background": "light"
     },
     "output_type": "display_data"
    },
    {
     "name": "stdout",
     "output_type": "stream",
     "text": [
      "CHECK4\n"
     ]
    },
    {
     "data": {
      "text/plain": [
       "(361411.66291078826, 1035047856.877735, 0.09722237302183512)"
      ]
     },
     "execution_count": 20,
     "metadata": {},
     "output_type": "execute_result"
    }
   ],
   "source": [
    "liner_regression_model(df_ma,'Year','Attendance')"
   ]
  },
  {
   "cell_type": "code",
   "execution_count": 21,
   "id": "160c0da1",
   "metadata": {},
   "outputs": [
    {
     "name": "stdout",
     "output_type": "stream",
     "text": [
      "CHECK2\n",
      "CHECK3\n"
     ]
    },
    {
     "data": {
      "image/png": "[encoded data removed]",
      "text/plain": [
       "<Figure size 432x288 with 1 Axes>"
      ]
     },
     "metadata": {
      "needs_background": "light"
     },
     "output_type": "display_data"
    },
    {
     "name": "stdout",
     "output_type": "stream",
     "text": [
      "CHECK4\n"
     ]
    },
    {
     "data": {
      "text/plain": [
       "(-102922.78280943926, 1221636006.090308, 0.03412145563068503)"
      ]
     },
     "execution_count": 21,
     "metadata": {},
     "output_type": "execute_result"
    }
   ],
   "source": [
    "liner_regression_model(df_exp,'Year','Attendance')"
   ]
  },
  {
   "cell_type": "code",
   "execution_count": null,
   "id": "a39c950f",
   "metadata": {},
   "outputs": [],
   "source": [
    "\n"
   ]
  },
  {
   "cell_type": "code",
   "execution_count": 22,
   "id": "0d39afa4",
   "metadata": {},
   "outputs": [
    {
     "data": {
      "image/png": "[encoded data removed]",
      "text/plain": [
       "<Figure size 720x432 with 1 Axes>"
      ]
     },
     "metadata": {
      "needs_background": "light"
     },
     "output_type": "display_data"
    },
    {
     "data": {
      "image/png": "[encoded data removed]",
      "text/plain": [
       "<Figure size 432x288 with 1 Axes>"
      ]
     },
     "metadata": {
      "needs_background": "light"
     },
     "output_type": "display_data"
    },
    {
     "name": "stdout",
     "output_type": "stream",
     "text": [
      "Intercept: 1141651552.1061213, Coefficient (X): -549253.4083252657, Coefficient (X^2): 1244.3336003816755, R-squared: 0.14160651785040235\n"
     ]
    }
   ],
   "source": [
    "# Quadratic Trend Model\n",
    "\n",
    "\n",
    "def quadratic_trend_model(df, featureX, featureY):\n",
    "    # Extract the features (X) and target variable (y)\n",
    "    X = df[featureX]\n",
    "    y = df[featureY]\n",
    "\n",
    "    # Convert date strings to datetime objects\n",
    "    X = pd.to_datetime(X)\n",
    "\n",
    "    # Calculate the number of days since the first date (reference date)\n",
    "    reference_date = X.min()\n",
    "    X = (X - reference_date).dt.days\n",
    "\n",
    "    # Create a quadratic regression model\n",
    "    X_squared = X ** 2\n",
    "    X_poly = pd.DataFrame({'X': X, 'X^2': X_squared})\n",
    "    model = LinearRegression()\n",
    "\n",
    "    # Fit the model to the data\n",
    "    model.fit(X_poly, y)\n",
    "\n",
    "    # Make predictions using the model\n",
    "    y_pred = model.predict(X_poly)\n",
    "\n",
    "    # Plot the actual data and the regression curve\n",
    "    plt.scatter(X, y, label='Actual Data', marker='o')\n",
    "    plt.plot(X, y_pred, label='Quadratic Regression Curve', color='red')\n",
    "\n",
    "    plt.xlabel('Days Since Reference Date')\n",
    "    plt.ylabel(featureY)\n",
    "    plt.title('Quadratic Trend Model')\n",
    "    plt.legend()\n",
    "\n",
    "    plt.grid(True)\n",
    "    plt.show()\n",
    "\n",
    "    # You can also get the coefficients of the quadratic model\n",
    "    intercept = model.intercept_\n",
    "    coef_X = model.coef_[0]\n",
    "    coef_X_squared = model.coef_[1]\n",
    "\n",
    "    # Calculate R-squared value\n",
    "    r_squared = r2_score(y, y_pred)\n",
    "\n",
    "    return intercept, coef_X, coef_X_squared, r_squared\n",
    "\n",
    "\n",
    "# Plot the original DataFrame\n",
    "plot_graph(df)\n",
    "\n",
    "# Run quadratic trend model on the DataFrame\n",
    "intercept, coef_X, coef_X_squared, r_squared = quadratic_trend_model(df, 'Year', 'Attendance')\n",
    "\n",
    "print(f\"Intercept: {intercept}, Coefficient (X): {coef_X}, Coefficient (X^2): {coef_X_squared}, R-squared: {r_squared}\")\n"
   ]
  },
  {
   "cell_type": "code",
   "execution_count": 31,
   "id": "5232671c",
   "metadata": {},
   "outputs": [],
   "source": [
    "def order_difference(df):\n",
    "    # Compute the first-order difference and store it in a new column\n",
    "    df['First_Order_Diff'] = df['Attendance'].diff()\n",
    "\n",
    "    # Compute the second-order difference and store it in a new column\n",
    "    df['Second_Order_Diff'] = df['First_Order_Diff'].diff()\n",
    "\n",
    "    # Compute the percentage difference between consecutive values and store it in a new column\n",
    "    df['Percentage_Diff'] = df['Attendance'].pct_change() * 100\n",
    "\n",
    "    return df"
   ]
  },
  {
   "cell_type": "code",
   "execution_count": 33,
   "id": "40364799",
   "metadata": {},
   "outputs": [],
   "source": [
    "df = order_difference(df)\n",
    "\n",
    "df_ma = order_difference(df_ma)\n",
    "\n",
    "df_exp = order_difference(df_exp)"
   ]
  },
  {
   "cell_type": "code",
   "execution_count": null,
   "id": "be1cb110",
   "metadata": {},
   "outputs": [],
   "source": []
  }
 ],
 "metadata": {
  "kernelspec": {
   "display_name": "Python 3 (ipykernel)",
   "language": "python",
   "name": "python3"
  },
  "language_info": {
   "codemirror_mode": {
    "name": "ipython",
    "version": 3
   },
   "file_extension": ".py",
   "mimetype": "text/x-python",
   "name": "python",
   "nbconvert_exporter": "python",
   "pygments_lexer": "ipython3",
   "version": "3.9.7"
  }
 },
 "nbformat": 4,
 "nbformat_minor": 5
}
